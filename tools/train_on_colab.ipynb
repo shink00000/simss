{
 "cells": [
  {
   "cell_type": "markdown",
   "metadata": {},
   "source": [
    "## 環境構築"
   ]
  },
  {
   "cell_type": "code",
   "execution_count": null,
   "metadata": {},
   "outputs": [],
   "source": [
    "!nvidia-smi"
   ]
  },
  {
   "cell_type": "code",
   "execution_count": null,
   "metadata": {},
   "outputs": [],
   "source": [
    "from google.colab import drive\n",
    "drive.mount('/content/drive')"
   ]
  },
  {
   "cell_type": "code",
   "execution_count": null,
   "metadata": {},
   "outputs": [],
   "source": [
    "%cd /content\n",
    "!git clone https://github.com/shink00000/simss.git\n",
    "!mkdir -p /content/simss/data\n",
    "%cd /content/simss/data\n",
    "!unzip -q /content/drive/MyDrive/data/cityscapes_ss.zip\n",
    "%cd .."
   ]
  },
  {
   "cell_type": "markdown",
   "metadata": {},
   "source": [
    "## 共通"
   ]
  },
  {
   "cell_type": "code",
   "execution_count": null,
   "metadata": {},
   "outputs": [],
   "source": [
    "!pip install torchmetrics==0.7.3\n",
    "!pip install -e ."
   ]
  },
  {
   "cell_type": "code",
   "execution_count": null,
   "metadata": {},
   "outputs": [],
   "source": [
    "CONFIG = 'bisenetv1_r18_cityscapes_h512_w1024'\n",
    "\n",
    "CONFIG_PATH = f'./configs/{CONFIG}.yaml'\n",
    "OUT_DIR = f'/content/drive/MyDrive/results/{CONFIG}'\n",
    "RESUME_FROM = LOAD_FROM = f'{OUT_DIR}/latest.pth'"
   ]
  },
  {
   "cell_type": "code",
   "execution_count": null,
   "metadata": {},
   "outputs": [],
   "source": [
    "!python ./tools/train.py $CONFIG_PATH --out_dir $OUT_DIR"
   ]
  }
 ],
 "metadata": {
  "interpreter": {
   "hash": "677c28472e5403bb589cf1d68d62f5cddedb166c07d10b12eae3ca967d1c82e7"
  },
  "kernelspec": {
   "display_name": "Python 3.8.10 64-bit ('DEV': venv)",
   "name": "python3"
  },
  "language_info": {
   "codemirror_mode": {
    "name": "ipython",
    "version": 3
   },
   "file_extension": ".py",
   "mimetype": "text/x-python",
   "name": "python",
   "nbconvert_exporter": "python",
   "pygments_lexer": "ipython3",
   "version": "3.8.10"
  }
 },
 "nbformat": 4,
 "nbformat_minor": 2
}
